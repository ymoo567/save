{
  "nbformat": 4,
  "nbformat_minor": 0,
  "metadata": {
    "colab": {
      "provenance": []
    },
    "kernelspec": {
      "name": "python3",
      "display_name": "Python 3"
    },
    "language_info": {
      "name": "python"
    }
  },
  "cells": [
    {
      "cell_type": "code",
      "source": [
        "# import packages\n",
        "import matplotlib.pyplot as plt\n",
        "import math\n",
        "\n",
        "# make a new function that calculates the distance between two points\n",
        "def distance(x1, y1, x2, y2):\n",
        "    result = math.sqrt(math.pow(x1 - x2, 2) + math.pow(y1 - y2, 2))\n",
        "    return result"
      ],
      "metadata": {
        "id": "Yg_svt5tAIN1"
      },
      "execution_count": 1,
      "outputs": []
    },
    {
      "cell_type": "code",
      "source": [
        "# three center points\n",
        "c1 = (2, 10)\n",
        "c2 = (5, 8)\n",
        "c3 = (1, 2) \n",
        "\n",
        "# eight given points\n",
        "p1 = (2, 5)\n",
        "p2 = (8, 4)\n",
        "p3 = (7, 5)\n",
        "p4 = (6, 4)\n",
        "p5 = (4, 9)\n",
        "p6 = (2, 10) # \n",
        "p7 = (5, 8) #\n",
        "p8 = (1, 2) #"
      ],
      "metadata": {
        "id": "HH9UPoWtA0in"
      },
      "execution_count": 2,
      "outputs": []
    },
    {
      "cell_type": "code",
      "source": [
        "# Visualize the eight given coordinates with black dot\n",
        "# three center points are displayed with each cluster color with star\n",
        "\n",
        "plt.scatter(p1[0], p1[1], c = 'black')\n",
        "plt.scatter(p2[0], p2[1], c = 'black')\n",
        "plt.scatter(p3[0], p3[1], c = 'black')\n",
        "plt.scatter(p4[0], p4[1], c = 'black')\n",
        "plt.scatter(p5[0], p5[1], c = 'black')\n",
        "plt.scatter(p6[0], p6[1], c = 'black')\n",
        "plt.scatter(p7[0], p7[1], c = 'black')\n",
        "plt.scatter(p8[0], p8[1], c = 'black')\n",
        "\n",
        "plt.scatter(c1[0], c1[1], c = 'r', marker = '*', s = 100)\n",
        "plt.scatter(c2[0], c2[1], c = 'g', marker = '*', s = 100)\n",
        "plt.scatter(c3[0], c3[1], c = 'b', marker = '*', s = 100)\n",
        "plt.show()"
      ],
      "metadata": {
        "colab": {
          "base_uri": "https://localhost:8080/",
          "height": 265
        },
        "id": "SklYsHEIBMKX",
        "outputId": "1ce200bf-703b-44ad-e1d3-37c9bdcfdf6e"
      },
      "execution_count": 3,
      "outputs": [
        {
          "output_type": "display_data",
          "data": {
            "text/plain": [
              "<Figure size 432x288 with 1 Axes>"
            ],
            "image/png": "[encoded data removed]"
          },
          "metadata": {
            "needs_background": "light"
          }
        }
      ]
    },
    {
      "cell_type": "code",
      "source": [
        "# make new empty lists, which distance value (distance between each points with 3 center points) will be stored\n",
        "# (to make indexing each information more comfortable, make this list as two-dimention list)\n",
        "\n",
        "c = [c1, c2, c3] # 'c' is a list that stores cordinates of three center points\n",
        "p = [p1, p2, p3, p4, p5, p6, p7, p8] # 'p' is a list that stores cordinates of eight given points\n",
        "pdis = []\n",
        "n1 = []\n",
        "n2 = []\n",
        "n3 = []\n",
        "m = [n1, n2, n3] # each lists will be stored in one large list\n",
        "llistt = [] # save the number of how many we attempted the k-means process\n",
        "cnt = 1 # this is first iteration\n",
        "\n",
        "for i in list(range(len(p))):\n",
        "  pdis.append([])\n",
        "  for o in list(range(len(c))):\n",
        "    pdis[i].append(distance(p[i][0], p[i][1], c[o][0], c[o][1]))\n",
        "\n",
        "for i in list(range(len(p))): # eight process - results of which center point is nearest with each eight points\n",
        "  print(i + 1, \"번째 점은\", pdis[i].index(min(pdis[i])) + 1, \"번째 Center와 가장 가깝습니다.\") # derive result through indexing\n",
        "  if (pdis[i].index(min(pdis[i])) + 1) == 1: # if the point is closest to the first center point\n",
        "    plt.scatter(p[i][0], p[i][1], c = 'r') # cluster it with red color\n",
        "    n1.append(p[i]) # save the coordinates of the points(in the first cluster) in the n1 list\n",
        "  if (pdis[i].index(min(pdis[i])) + 1) == 2: # if the point is closest to the second center point\n",
        "    plt.scatter(p[i][0], p[i][1], c = 'g') # cluster it with green color\n",
        "    n2.append(p[i]) # save the coordinates of the points(in the second cluster) in the n2 list\n",
        "  if (pdis[i].index(min(pdis[i])) + 1) == 3: # if the point is closest to the third center point\n",
        "    plt.scatter(p[i][0], p[i][1], c = 'b') # cluster it with blue color\n",
        "    n3.append(p[i]) # save the coordinates of the points(in the third cluster) in the n3 list\n",
        " \n",
        "print(\" \")\n",
        "for i in range(0, 3):\n",
        "  print(i + 1, \"번째 클러스터 원소의 개수는\", len(m[i])) # save in each cluster's list & print how many elements (coordinates) each cluster contains\n",
        "print(\" \")\n",
        "plt.show()"
      ],
      "metadata": {
        "colab": {
          "base_uri": "https://localhost:8080/",
          "height": 491
        },
        "id": "X0j52ydBCCxD",
        "outputId": "327edea9-93f2-4615-a8a1-f2e38c5e0849"
      },
      "execution_count": 4,
      "outputs": [
        {
          "output_type": "stream",
          "name": "stdout",
          "text": [
            "1 번째 점은 3 번째 Center와 가장 가깝습니다.\n",
            "2 번째 점은 2 번째 Center와 가장 가깝습니다.\n",
            "3 번째 점은 2 번째 Center와 가장 가깝습니다.\n",
            "4 번째 점은 2 번째 Center와 가장 가깝습니다.\n",
            "5 번째 점은 2 번째 Center와 가장 가깝습니다.\n",
            "6 번째 점은 1 번째 Center와 가장 가깝습니다.\n",
            "7 번째 점은 2 번째 Center와 가장 가깝습니다.\n",
            "8 번째 점은 3 번째 Center와 가장 가깝습니다.\n",
            " \n",
            "1 번째 클러스터 원소의 개수는 1\n",
            "2 번째 클러스터 원소의 개수는 5\n",
            "3 번째 클러스터 원소의 개수는 2\n",
            " \n"
          ]
        },
        {
          "output_type": "display_data",
          "data": {
            "text/plain": [
              "<Figure size 432x288 with 1 Axes>"
            ],
            "image/png": "[encoded data removed]"
          },
          "metadata": {
            "needs_background": "light"
          }
        }
      ]
    },
    {
      "cell_type": "code",
      "source": [
        "# with these result, we have to figure out new center point,\n",
        "# which is the center of mass(weight center) of each cluster points\n",
        "\n",
        "for i in list(range(1, 9)):\n",
        "  if (pdis[i - 1].index(min(pdis[i - 1])) + 1) == 1: \n",
        "    plt.scatter(p[i - 1][0], p[i - 1][1], c = 'r')\n",
        "  if (pdis[i - 1].index(min(pdis[i - 1])) + 1) == 2:\n",
        "    plt.scatter(p[i - 1][0], p[i - 1][1], c = 'g') \n",
        "  if (pdis[i - 1].index(min(pdis[i - 1])) + 1) == 3:\n",
        "    plt.scatter(p[i - 1][0], p[i - 1][1], c = 'b') \n",
        "\n",
        "list1 = [] # make a empty list to save X coordinates of each points\n",
        "list2 = [] # make a empty list to save Y coordinates of each points\n",
        "\n",
        "for o in list(range(len(c))): # index number (0~2) of new 3 center point\n",
        "  list1.append([]) \n",
        "  list2.append([])\n",
        "  for i in list(range(len(m[o]))): # run as number of elements in each cluster\n",
        "    list1[o].append(m[o][i][0]) # For ease of indexing, create a two-dimensional list and store it in order for each cluster\n",
        "    list2[o].append(m[o][i][1]) \n",
        "  if len(list1) == 0: # If the number of elements in a particular cluster is zero (though that won't happen), then proceed without running\n",
        "    continue\n",
        "  else: # Calculate the average value of coordinates in each cluster to create a new center point and store it to 'c'\n",
        "    c[o] = (sum(list1[o]) / len(list1[o]), sum(list2[o]) / len(list2[o]))\n",
        "\n",
        "# save the coordinates(center point) of first iteration\n",
        "llistt.append(c)\n",
        "print(cnt, \"번째 iteration의 center point까지 :\", llistt)\n",
        "print(\" \")\n",
        "print(cnt, \"번째 iteration\")\n",
        "\n",
        "# mark new center points in scatter plot\n",
        "plt.scatter(c[0][0], c[0][1], c = 'r', marker = '*', s = 100)\n",
        "plt.scatter(c[1][0], c[1][1], c = 'g', marker = '*', s = 100)\n",
        "plt.scatter(c[2][0], c[2][1], c = 'b', marker = '*', s = 100)\n",
        "plt.show()"
      ],
      "metadata": {
        "colab": {
          "base_uri": "https://localhost:8080/",
          "height": 317
        },
        "id": "5d77WOueMCAd",
        "outputId": "a60ec5bd-9a09-47bd-af73-88f8dab683af"
      },
      "execution_count": 5,
      "outputs": [
        {
          "output_type": "stream",
          "name": "stdout",
          "text": [
            "1 번째 iteration의 center point까지 : [[(2.0, 10.0), (6.0, 6.0), (1.5, 3.5)]]\n",
            " \n",
            "1 번째 iteration\n"
          ]
        },
        {
          "output_type": "display_data",
          "data": {
            "text/plain": [
              "<Figure size 432x288 with 1 Axes>"
            ],
            "image/png": "[encoded data removed]"
          },
          "metadata": {
            "needs_background": "light"
          }
        }
      ]
    },
    {
      "cell_type": "markdown",
      "source": [
        "# ⇑ 여기까지가 첫 번째 iteration"
      ],
      "metadata": {
        "id": "agxazT1vJ8t8"
      }
    },
    {
      "cell_type": "code",
      "source": [
        "# After first iteration, the same process is repeated using a \"while True:\" sentence.\n",
        "# it makes an infinite loop\n",
        "\n",
        "cnt += 1\n",
        "\n",
        "p = [p1, p2, p3, p4, p5, p6, p7, p8]\n",
        "pdis = []\n",
        "n1 = []\n",
        "n2 = []\n",
        "n3 = []\n",
        "m = [n1, n2, n3]\n",
        "\n",
        "for i in list(range(len(p))):\n",
        "  pdis.append([])\n",
        "  for o in list(range(len(c))):\n",
        "    pdis[i].append(distance(p[i][0], p[i][1], c[o][0], c[o][1]))\n",
        "\n",
        "for i in list(range(len(p))): \n",
        "  print(i + 1, \"번째 점은\", pdis[i].index(min(pdis[i])) + 1, \"번째 Center와 가장 가깝습니다.\") \n",
        "  if (pdis[i].index(min(pdis[i])) + 1) == 1: \n",
        "    plt.scatter(p[i][0], p[i][1], c = 'r') \n",
        "    n1.append(p[i])\n",
        "  if (pdis[i].index(min(pdis[i])) + 1) == 2:\n",
        "    plt.scatter(p[i][0], p[i][1], c = 'g') \n",
        "    n2.append(p[i]) \n",
        "  if (pdis[i].index(min(pdis[i])) + 1) == 3:\n",
        "    plt.scatter(p[i][0], p[i][1], c = 'b') \n",
        "    n3.append(p[i]) \n",
        "  \n",
        "print(\" \")\n",
        "for i in range(0, 3):\n",
        "  print(i + 1, \"번째 클러스터 원소의 개수는\", len(m[i]))\n",
        "print(\" \")\n",
        "\n",
        "list1 = [] \n",
        "list2 = [] \n",
        "\n",
        "for o in list(range(len(c))): \n",
        "  list1.append([]) \n",
        "  list2.append([])\n",
        "  for i in list(range(len(m[o]))):\n",
        "    list1[o].append(m[o][i][0])\n",
        "    list2[o].append(m[o][i][1]) \n",
        "  if len(list1) == 0: \n",
        "    continue\n",
        "  else: \n",
        "    c[o] = (sum(list1[o]) / len(list1[o]), sum(list2[o]) / len(list2[o]))\n",
        "\n",
        "llistt.append(c)\n",
        "print(cnt, \"번째 iteration의 center point까지 :\", llistt)\n",
        "print(\" \")\n",
        "print(cnt, \"번째 iteration\")\n",
        "\n",
        "plt.scatter(c[0][0], c[0][1], c = 'r', marker = '*', s = 100)\n",
        "plt.scatter(c[1][0], c[1][1], c = 'g', marker = '*', s = 100)\n",
        "plt.scatter(c[2][0], c[2][1], c = 'b', marker = '*', s = 100)\n",
        "plt.show()"
      ],
      "metadata": {
        "colab": {
          "base_uri": "https://localhost:8080/",
          "height": 563
        },
        "id": "1-HFV5CeZx-t",
        "outputId": "09b4f337-fbe9-4f55-8de0-f363f78e92fc"
      },
      "execution_count": 8,
      "outputs": [
        {
          "output_type": "stream",
          "name": "stdout",
          "text": [
            "1 번째 점은 3 번째 Center와 가장 가깝습니다.\n",
            "2 번째 점은 2 번째 Center와 가장 가깝습니다.\n",
            "3 번째 점은 2 번째 Center와 가장 가깝습니다.\n",
            "4 번째 점은 2 번째 Center와 가장 가깝습니다.\n",
            "5 번째 점은 1 번째 Center와 가장 가깝습니다.\n",
            "6 번째 점은 1 번째 Center와 가장 가깝습니다.\n",
            "7 번째 점은 1 번째 Center와 가장 가깝습니다.\n",
            "8 번째 점은 3 번째 Center와 가장 가깝습니다.\n",
            " \n",
            "1 번째 클러스터 원소의 개수는 3\n",
            "2 번째 클러스터 원소의 개수는 3\n",
            "3 번째 클러스터 원소의 개수는 2\n",
            " \n",
            "4 번째 iteration의 center point까지 : [[(3.6666666666666665, 9.0), (7.0, 4.333333333333333), (1.5, 3.5)], [(3.6666666666666665, 9.0), (7.0, 4.333333333333333), (1.5, 3.5)], [(3.6666666666666665, 9.0), (7.0, 4.333333333333333), (1.5, 3.5)], [(3.6666666666666665, 9.0), (7.0, 4.333333333333333), (1.5, 3.5)]]\n",
            " \n",
            "4 번째 iteration\n"
          ]
        },
        {
          "output_type": "display_data",
          "data": {
            "text/plain": [
              "<Figure size 432x288 with 1 Axes>"
            ],
            "image/png": "[encoded data removed]"
          },
          "metadata": {
            "needs_background": "light"
          }
        }
      ]
    }
  ]
}